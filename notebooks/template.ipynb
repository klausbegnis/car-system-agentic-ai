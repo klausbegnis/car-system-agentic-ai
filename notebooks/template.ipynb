{
 "cells": [
  {
   "cell_type": "markdown",
   "id": "bdfdbcfd",
   "metadata": {},
   "source": [
    "# Imports"
   ]
  },
  {
   "cell_type": "code",
   "execution_count": 1,
   "id": "0cfcfd52",
   "metadata": {},
   "outputs": [
    {
     "name": "stdout",
     "output_type": "stream",
     "text": [
      "2025-09-18 18:12:02 | notebooks | INFO | 🔑 Environment loaded from: /home/klaus/Projects/car-system-agentic-ai/.env\n",
      "2025-09-18 18:12:02 | notebooks | INFO | 🔑 GOOGLE_API_KEY: ✅ Found\n"
     ]
    }
   ],
   "source": [
    "exec(open('setup.py').read())\n",
    "\n",
    "from notebooks import *"
   ]
  },
  {
   "cell_type": "markdown",
   "id": "5940d3a4",
   "metadata": {},
   "source": [
    "# Definitions"
   ]
  },
  {
   "cell_type": "code",
   "execution_count": null,
   "id": "8d489588",
   "metadata": {},
   "outputs": [],
   "source": [
    "gemini_model_1 = models.GeminiModel(model=\"gemini-2.5-flash\", prompt=\"You are a helpful assistant.\")\n",
    "gemini_model_2 = models.GeminiModel(model=\"gemini-2.5-flash\", prompt=\"You are a helpful assistant.\")\n",
    "\n",
    "node_1 = nodes.AgenticNode(\n",
    "    routing_options=[\"node_2\"],\n",
    "    model=gemini_model_1,\n",
    "    tools=[],\n",
    ")\n",
    "\n",
    "node_2 = nodes.AgenticNode(\n",
    "    routing_options=[],\n",
    "    model=gemini_model_2,\n",
    "    tools=[],\n",
    ")"
   ]
  },
  {
   "cell_type": "markdown",
   "id": "7eccefee",
   "metadata": {},
   "source": [
    "# Tests"
   ]
  },
  {
   "cell_type": "code",
   "execution_count": null,
   "id": "8edd2ecd",
   "metadata": {},
   "outputs": [],
   "source": []
  }
 ],
 "metadata": {
  "kernelspec": {
   "display_name": ".venv",
   "language": "python",
   "name": "python3"
  },
  "language_info": {
   "codemirror_mode": {
    "name": "ipython",
    "version": 3
   },
   "file_extension": ".py",
   "mimetype": "text/x-python",
   "name": "python",
   "nbconvert_exporter": "python",
   "pygments_lexer": "ipython3",
   "version": "3.12.3"
  }
 },
 "nbformat": 4,
 "nbformat_minor": 5
}
