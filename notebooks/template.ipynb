{
 "cells": [
  {
   "cell_type": "markdown",
   "id": "bdfdbcfd",
   "metadata": {},
   "source": [
    "# Imports"
   ]
  },
  {
   "cell_type": "code",
   "execution_count": null,
   "id": "0cfcfd52",
   "metadata": {},
   "outputs": [],
   "source": [
    "exec(open('setup.py').read())\n",
    "\n",
    "from notebooks import *\n",
    "from langgraph.constants import START, END"
   ]
  },
  {
   "cell_type": "markdown",
   "id": "11c6571c",
   "metadata": {},
   "source": [
    "# Load Prompts"
   ]
  },
  {
   "cell_type": "code",
   "execution_count": null,
   "id": "f77d6517",
   "metadata": {},
   "outputs": [],
   "source": [
    "# Load prompts from markdown files\n",
    "from src.utils.prompt_loader import get_prompt\n",
    "\n",
    "# Load all prompts\n",
    "error_handler_prompt = get_prompt(\"error_handler\")\n",
    "input_guard_rail_prompt = get_prompt(\"input_guard_rail\") \n",
    "agentic_node_prompt = get_prompt(\"agentic_node\")"
   ]
  },
  {
   "cell_type": "markdown",
   "id": "5940d3a4",
   "metadata": {},
   "source": [
    "# Definitions"
   ]
  },
  {
   "cell_type": "code",
   "execution_count": null,
   "id": "8d489588",
   "metadata": {},
   "outputs": [],
   "source": [
    "# model definition with prompts from markdown files\n",
    "agent_1 = models.GeminiModel(\n",
    "    model=\"gemini-2.5-flash\", \n",
    "    prompt=agentic_node_prompt\n",
    ")\n",
    "\n",
    "input_guard_rail_model = models.GeminiModel(\n",
    "    model=\"gemini-2.5-flash\", \n",
    "    prompt=input_guard_rail_prompt\n",
    ")\n",
    "\n",
    "error_handler_model = models.GeminiModel(\n",
    "    model=\"gemini-2.5-flash\", \n",
    "    prompt=error_handler_prompt\n",
    ")\n",
    "\n",
    "# node definition\n",
    "EXIT_ZONE = END\n",
    "\n",
    "input_guard_rail = nodes.InputGuardRail(\n",
    "    routing_options={\"next_node\": \"agentic_node\", \"end\": \"error_handler\"},\n",
    "    model=input_guard_rail_model,\n",
    ")\n",
    "\n",
    "agentic_node = nodes.AgenticNode(\n",
    "    routing_options={\"next_node\": EXIT_ZONE, \"end\": \"error_handler\"},\n",
    "    model=agent_1,\n",
    "    tools=[],\n",
    ")\n",
    "\n",
    "error_handler = nodes.ErrorHandlerNode(\n",
    "    routing_options={\"end\": EXIT_ZONE},\n",
    "    model=error_handler_model,\n",
    ")"
   ]
  },
  {
   "cell_type": "markdown",
   "id": "12174ec2",
   "metadata": {},
   "source": [
    "# Graph Creation"
   ]
  },
  {
   "cell_type": "code",
   "execution_count": null,
   "id": "213ceb13",
   "metadata": {},
   "outputs": [],
   "source": [
    "from langgraph.graph import StateGraph\n",
    "from src.data_models.graph_state import CarSystemState\n",
    "\n",
    "# Create the graph with state_schema parameter\n",
    "workflow = StateGraph(state_schema=CarSystemState)\n",
    "\n",
    "# Add nodes to the graph\n",
    "workflow.add_node(\"input_guard_rail\", input_guard_rail)\n",
    "workflow.add_node(\"agentic_node\", agentic_node)\n",
    "workflow.add_node(\"error_handler\", error_handler)\n",
    "\n",
    "# Define the flow with conditional routing\n",
    "# Os nodes usam Command para determinar o próximo node baseado no estado\n",
    "workflow.add_edge(START, \"input_guard_rail\")\n",
    "\n",
    "# Os nodes se roteiam automaticamente baseado nos routing_options e no estado\n",
    "# Se error_message estiver presente, vão para error_handler\n",
    "# Caso contrário, seguem o fluxo normal\n",
    "\n",
    "# Compile the graph\n",
    "app = workflow.compile()"
   ]
  },
  {
   "cell_type": "markdown",
   "id": "513fd2ac",
   "metadata": {},
   "source": [
    "# Test Graph Execution"
   ]
  },
  {
   "cell_type": "code",
   "execution_count": null,
   "id": "2b6aa706",
   "metadata": {},
   "outputs": [],
   "source": [
    "# Alternative: Synchronous test (if async has issues)\n",
    "def test_graph_sync():\n",
    "    \"\"\"Synchronous version of the graph test.\"\"\"\n",
    "    \n",
    "    # Create a test state using CarSystemState\n",
    "    test_input = CarSystemState(\n",
    "        messages=[HumanMessage(content=\"Meu carro não está ligando. Quando viro a chave, só faz um clique. O que pode ser?\")],\n",
    "        user_input=None,\n",
    "        car_data=None,\n",
    "        current_node=None,\n",
    "        processing_status=None,\n",
    "        analysis_result=None,\n",
    "        recommendations=None,\n",
    "        error_message=None,\n",
    "        context=None,\n",
    "    )\n",
    "    \n",
    "    print(\"🔧 Testing graph execution (synchronous)...\")\n",
    "    print(f\"Input message: {test_input['messages'][0].content}\")\n",
    "    print(\"-\" * 60)\n",
    "    \n",
    "    try:\n",
    "        # Run the graph synchronously\n",
    "        result = app.invoke(test_input)\n",
    "        \n",
    "        print(\"✅ Synchronous graph execution successful!\")\n",
    "        print(\"\\n📊 Final State:\")\n",
    "        print(\"-\" * 30)\n",
    "        \n",
    "        # Display the results\n",
    "        for key, value in result.items():\n",
    "            if value is not None:\n",
    "                if key == \"messages\":\n",
    "                    print(f\"📝 {key}: {len(value)} messages\")\n",
    "                    for i, msg in enumerate(value):\n",
    "                        print(f\"   [{i}] {type(msg).__name__}: {msg.content[:80]}...\")\n",
    "                elif isinstance(value, str) and len(value) > 80:\n",
    "                    print(f\"📄 {key}: {value[:80]}...\")\n",
    "                else:\n",
    "                    print(f\"🔹 {key}: {value}\")\n",
    "        \n",
    "        return result\n",
    "        \n",
    "    except Exception as e:\n",
    "        print(f\"❌ Error during synchronous execution: {e}\")\n",
    "        print(f\"Error type: {type(e).__name__}\")\n",
    "        import traceback\n",
    "        print(f\"Traceback: {traceback.format_exc()}\")\n",
    "        return None\n",
    "\n",
    "print(\"\\n\" + \"=\"*60)\n",
    "print(\"🔄 Running synchronous version...\")\n",
    "sync_result = test_graph_sync()\n",
    "\n",
    "if sync_result:\n",
    "    print(f\"\\n🎉 Sync test completed! Final state has {len([k for k, v in sync_result.items() if v is not None])} populated fields.\")\n",
    "else:\n",
    "    print(\"\\n❌ Sync test also failed. Check configuration.\")"
   ]
  }
 ],
 "metadata": {
  "kernelspec": {
   "display_name": "car-system-agentic-ai",
   "language": "python",
   "name": "python3"
  },
  "language_info": {
   "codemirror_mode": {
    "name": "ipython",
    "version": 3
   },
   "file_extension": ".py",
   "mimetype": "text/x-python",
   "name": "python",
   "nbconvert_exporter": "python",
   "pygments_lexer": "ipython3",
   "version": "3.12.3"
  }
 },
 "nbformat": 4,
 "nbformat_minor": 5
}
