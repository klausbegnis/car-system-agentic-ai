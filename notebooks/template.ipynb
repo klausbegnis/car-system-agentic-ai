{
 "cells": [
  {
   "cell_type": "markdown",
   "id": "b2aa3c1a",
   "metadata": {},
   "source": [
    "# Car System Agentic AI - Template\n",
    "\n",
    "**Project:** Agentic AI example  \n",
    "**Author:** Klaus  \n",
    "**License:** MIT License\n",
    "\n",
    "---\n",
    "\n",
    "This notebook demonstrates the car diagnostic system using LangGraph with multiple specialized nodes for input validation, reasoning, and output processing.\n"
   ]
  },
  {
   "cell_type": "markdown",
   "id": "bdfdbcfd",
   "metadata": {},
   "source": [
    "# Imports"
   ]
  },
  {
   "cell_type": "code",
   "execution_count": 1,
   "id": "0cfcfd52",
   "metadata": {},
   "outputs": [
    {
     "name": "stdout",
     "output_type": "stream",
     "text": [
      "\u001b[37m[\u001b[90m2025-09-19 12:35:03\u001b[37m]\u001b[0m \u001b[37m(\u001b[1;94m__init__.py:46\u001b[37m)\u001b[0m \u001b[32mINFO\u001b[0m | 🔑 Environment loaded from: /home/klaus/Projects/car-system-agentic-ai/.env\n",
      "\u001b[37m[\u001b[90m2025-09-19 12:35:03\u001b[37m]\u001b[0m \u001b[37m(\u001b[1;94m__init__.py:48\u001b[37m)\u001b[0m \u001b[32mINFO\u001b[0m | 🔑 GOOGLE_API_KEY: ✅ Found\n"
     ]
    }
   ],
   "source": [
    "exec(open('setup.py').read())\n",
    "\n",
    "from notebooks import *\n",
    "from langgraph.constants import START, END\n",
    "from langgraph.graph import StateGraph\n",
    "from langchain_core.messages import HumanMessage\n",
    "from src.data_models.graph_state import CarSystemState\n",
    "from langchain_core.runnables import RunnableConfig\n",
    "from langgraph.types import Command"
   ]
  },
  {
   "cell_type": "markdown",
   "id": "11c6571c",
   "metadata": {},
   "source": [
    "# Load Prompts"
   ]
  },
  {
   "cell_type": "code",
   "execution_count": 2,
   "id": "f77d6517",
   "metadata": {},
   "outputs": [
    {
     "name": "stdout",
     "output_type": "stream",
     "text": [
      "\u001b[37m[\u001b[90m2025-09-19 12:35:03\u001b[37m]\u001b[0m \u001b[37m(\u001b[1;94mprompt_loader.py:129\u001b[37m)\u001b[0m \u001b[32mINFO\u001b[0m | 🔍 PromptLoader: Loaded prompt output_guard_rail\n",
      "\u001b[37m[\u001b[90m2025-09-19 12:35:03\u001b[37m]\u001b[0m \u001b[37m(\u001b[1;94mprompt_loader.py:129\u001b[37m)\u001b[0m \u001b[32mINFO\u001b[0m | 🔍 PromptLoader: Loaded prompt input_guard_rail\n",
      "\u001b[37m[\u001b[90m2025-09-19 12:35:03\u001b[37m]\u001b[0m \u001b[37m(\u001b[1;94mprompt_loader.py:129\u001b[37m)\u001b[0m \u001b[32mINFO\u001b[0m | 🔍 PromptLoader: Loaded prompt reasoning_node\n"
     ]
    }
   ],
   "source": [
    "# Load prompts from markdown files\n",
    "from src.utils.prompt_loader import get_prompt\n",
    "\n",
    "# Load all prompts\n",
    "output_guard_rail_prompt = get_prompt(\"output_guard_rail\")\n",
    "input_guard_rail_prompt = get_prompt(\"input_guard_rail\") \n",
    "reasoning_node_prompt = get_prompt(\"reasoning_node\")"
   ]
  },
  {
   "cell_type": "markdown",
   "id": "5940d3a4",
   "metadata": {},
   "source": [
    "# Definitions"
   ]
  },
  {
   "cell_type": "markdown",
   "id": "b6d4d94d",
   "metadata": {},
   "source": [
    "## Agents"
   ]
  },
  {
   "cell_type": "code",
   "execution_count": 3,
   "id": "8d489588",
   "metadata": {},
   "outputs": [
    {
     "name": "stdout",
     "output_type": "stream",
     "text": [
      "\u001b[37m[\u001b[90m2025-09-19 12:35:03\u001b[37m]\u001b[0m \u001b[37m(\u001b[1;95mgemini.py:38\u001b[37m)\u001b[0m \u001b[32mINFO\u001b[0m | 🤖 GeminiModel: Initialized with model gemini-2.5-flash\n",
      "\u001b[37m[\u001b[90m2025-09-19 12:35:03\u001b[37m]\u001b[0m \u001b[37m(\u001b[1;95mgemini.py:38\u001b[37m)\u001b[0m \u001b[32mINFO\u001b[0m | 🤖 GeminiModel: Initialized with model gemini-2.5-flash\n",
      "\u001b[37m[\u001b[90m2025-09-19 12:35:03\u001b[37m]\u001b[0m \u001b[37m(\u001b[1;95mgemini.py:38\u001b[37m)\u001b[0m \u001b[32mINFO\u001b[0m | 🤖 GeminiModel: Initialized with model gemini-2.5-flash\n"
     ]
    }
   ],
   "source": [
    "# model definition with prompts from markdown files\n",
    "input_guard_rail_agent = models.GeminiModel(\n",
    "    model=\"gemini-2.5-flash\", \n",
    "    prompt=input_guard_rail_prompt\n",
    ")\n",
    "\n",
    "reasoning_agent = models.GeminiModel(\n",
    "    model=\"gemini-2.5-flash\", \n",
    "    prompt=reasoning_node_prompt\n",
    ")\n",
    "\n",
    "output_guard_rail_agent = models.GeminiModel(\n",
    "    model=\"gemini-2.5-flash\", \n",
    "    prompt=output_guard_rail_prompt\n",
    ")"
   ]
  },
  {
   "cell_type": "markdown",
   "id": "9e64c756",
   "metadata": {},
   "source": [
    "## Nodes"
   ]
  },
  {
   "cell_type": "code",
   "execution_count": 4,
   "id": "e301d75f",
   "metadata": {},
   "outputs": [
    {
     "name": "stdout",
     "output_type": "stream",
     "text": [
      "\u001b[37m[\u001b[90m2025-09-19 12:35:03\u001b[37m]\u001b[0m \u001b[37m(\u001b[1;91minput_guard_rail.py:36\u001b[37m)\u001b[0m \u001b[32mINFO\u001b[0m | InputGuardRail: Initialized\n",
      "\u001b[37m[\u001b[90m2025-09-19 12:35:03\u001b[37m]\u001b[0m \u001b[37m(\u001b[1;93mreasoning_node.py:51\u001b[37m)\u001b[0m \u001b[32mINFO\u001b[0m | ReasoningNode: Initialized\n",
      "\u001b[37m[\u001b[90m2025-09-19 12:35:03\u001b[37m]\u001b[0m \u001b[37m(\u001b[1;35moutput_guard_rail.py:41\u001b[37m)\u001b[0m \u001b[32mINFO\u001b[0m | OutputGuardRail: Initialized\n"
     ]
    }
   ],
   "source": [
    "# node definition\n",
    "ENTRYPOINT = START\n",
    "INPUT_GUARD_RAIL = \"input_guard_rail\"\n",
    "REASONING_NODE = \"reasoning_node\"\n",
    "OUTPUT_GUARD_RAIL = \"output_guard_rail\"\n",
    "EXIT_ZONE = \"end\"\n",
    "\n",
    "input_guard_rail = nodes.InputGuardRail(\n",
    "    routing_options={\"next_node\": REASONING_NODE, \"end\": OUTPUT_GUARD_RAIL},\n",
    "    model=input_guard_rail_agent,\n",
    ")\n",
    "\n",
    "reasoning_node = nodes.ReasoningNode(\n",
    "    routing_options={\"next_node\": OUTPUT_GUARD_RAIL, \"end\": OUTPUT_GUARD_RAIL},\n",
    "    model=reasoning_agent,\n",
    "    tools=[],\n",
    ")\n",
    "\n",
    "output_guard_rail = nodes.OutputGuardRail(\n",
    "    routing_options={\"end\": EXIT_ZONE},\n",
    "    model=output_guard_rail_agent,\n",
    ")"
   ]
  },
  {
   "cell_type": "markdown",
   "id": "12174ec2",
   "metadata": {},
   "source": [
    "## Graph Creation"
   ]
  },
  {
   "cell_type": "code",
   "execution_count": 5,
   "id": "213ceb13",
   "metadata": {},
   "outputs": [],
   "source": [
    "# Create the graph with state_schema parameter\n",
    "workflow = StateGraph(state_schema=CarSystemState)\n",
    "\n",
    "# Add nodes to the graph\n",
    "workflow.add_node(INPUT_GUARD_RAIL, input_guard_rail)\n",
    "workflow.add_node(REASONING_NODE, reasoning_node)\n",
    "workflow.add_node(OUTPUT_GUARD_RAIL, output_guard_rail)\n",
    "\n",
    "# Define the flow with conditional routing\n",
    "# Os nodes usam Command para determinar o próximo node baseado no estado\n",
    "workflow.add_edge(START, \"input_guard_rail\")\n",
    "#workflow.add_edge(EXIT_ZONE, lambda state: Command(goto=END))\n",
    "\n",
    "app = workflow.compile()"
   ]
  },
  {
   "cell_type": "markdown",
   "id": "513fd2ac",
   "metadata": {},
   "source": [
    "# Test Graph Execution"
   ]
  },
  {
   "cell_type": "code",
   "execution_count": 6,
   "id": "2b6aa706",
   "metadata": {},
   "outputs": [
    {
     "name": "stdout",
     "output_type": "stream",
     "text": [
      "\n",
      "============================================================\n",
      "🔄 Running synchronous version...\n",
      "🔧 Testing graph execution (synchronous)...\n",
      "Input message: Meu carro não está ligando. Quando viro a chave, só faz um clique. O que pode ser?\n",
      "------------------------------------------------------------\n",
      "\u001b[37m[\u001b[90m2025-09-19 12:35:03\u001b[37m]\u001b[0m \u001b[37m(\u001b[1;91minput_guard_rail.py:44\u001b[37m)\u001b[0m \u001b[32mINFO\u001b[0m | 🛡️ InputGuardRail: Starting execution\n",
      "\u001b[37m[\u001b[90m2025-09-19 12:35:03\u001b[37m]\u001b[0m \u001b[37m(\u001b[1;91minput_guard_rail.py:59\u001b[37m)\u001b[0m \u001b[32mINFO\u001b[0m | 📨 Processing message: Meu carro não está ligando. Quando viro a chave, só faz um clique. O que pode ser?...\n",
      "\u001b[37m[\u001b[90m2025-09-19 12:35:05\u001b[37m]\u001b[0m \u001b[37m(\u001b[1;95mgemini.py:74\u001b[37m)\u001b[0m \u001b[32mINFO\u001b[0m | 🪙 Token usage: {'input_tokens': 382, 'output_tokens': 132, 'total_tokens': 514, 'input_token_details': {'cache_read': 0}, 'output_token_details': {'reasoning': 115}}\n",
      "\u001b[37m[\u001b[90m2025-09-19 12:35:05\u001b[37m]\u001b[0m \u001b[37m(\u001b[1;91minput_guard_rail.py:71\u001b[37m)\u001b[0m \u001b[32mINFO\u001b[0m | ✅ Validation result: is_valid=True\n",
      "\u001b[37m[\u001b[90m2025-09-19 12:35:05\u001b[37m]\u001b[0m \u001b[37m(\u001b[1;91minput_guard_rail.py:77\u001b[37m)\u001b[0m \u001b[32mINFO\u001b[0m | 🚀 Routing to next_node: reasoning_node\n",
      "\u001b[37m[\u001b[90m2025-09-19 12:35:05\u001b[37m]\u001b[0m \u001b[37m(\u001b[1;93mreasoning_node.py:59\u001b[37m)\u001b[0m \u001b[32mINFO\u001b[0m | 🧠 ReasoningNode: Starting execution\n",
      "\u001b[37m[\u001b[90m2025-09-19 12:35:05\u001b[37m]\u001b[0m \u001b[37m(\u001b[1;93mreasoning_node.py:89\u001b[37m)\u001b[0m \u001b[32mINFO\u001b[0m | 📨 Processing message: Meu carro não está ligando. Quando viro a chave, só faz um clique. O que pode ser?...\n",
      "\u001b[37m[\u001b[90m2025-09-19 12:35:05\u001b[37m]\u001b[0m \u001b[37m(\u001b[1;93mreasoning_node.py:94\u001b[37m)\u001b[0m \u001b[32mINFO\u001b[0m | 🤖 Invoking model for analysis...\n",
      "\u001b[37m[\u001b[90m2025-09-19 12:35:20\u001b[37m]\u001b[0m \u001b[37m(\u001b[1;95mgemini.py:83\u001b[37m)\u001b[0m \u001b[32mINFO\u001b[0m | 🪙 Token usage: {'input_tokens': 603, 'output_tokens': 1621, 'total_tokens': 2224, 'input_token_details': {'cache_read': 0}, 'output_token_details': {'reasoning': 501}}\n",
      "\u001b[37m[\u001b[90m2025-09-19 12:35:20\u001b[37m]\u001b[0m \u001b[37m(\u001b[1;93mreasoning_node.py:107\u001b[37m)\u001b[0m \u001b[32mINFO\u001b[0m | 🚀 Routing to next_node: output_guard_rail\n",
      "\u001b[37m[\u001b[90m2025-09-19 12:35:20\u001b[37m]\u001b[0m \u001b[37m(\u001b[1;35moutput_guard_rail.py:56\u001b[37m)\u001b[0m \u001b[32mINFO\u001b[0m | 🛡️ OutputGuardRail: Starting execution\n",
      "\u001b[37m[\u001b[90m2025-09-19 12:35:20\u001b[37m]\u001b[0m \u001b[37m(\u001b[1;35moutput_guard_rail.py:68\u001b[37m)\u001b[0m \u001b[32mINFO\u001b[0m | ✅ Processing successful analysis\n",
      "\u001b[37m[\u001b[90m2025-09-19 12:35:20\u001b[37m]\u001b[0m \u001b[37m(\u001b[1;35moutput_guard_rail.py:161\u001b[37m)\u001b[0m \u001b[32mINFO\u001b[0m | 🔍 Validating recommendations for safety\n",
      "\u001b[37m[\u001b[90m2025-09-19 12:35:38\u001b[37m]\u001b[0m \u001b[37m(\u001b[1;95mgemini.py:83\u001b[37m)\u001b[0m \u001b[32mINFO\u001b[0m | 🪙 Token usage: {'input_tokens': 1851, 'output_tokens': 2361, 'total_tokens': 4212, 'input_token_details': {'cache_read': 0}, 'output_token_details': {'reasoning': 1342}}\n",
      "\u001b[37m[\u001b[90m2025-09-19 12:35:38\u001b[37m]\u001b[0m \u001b[37m(\u001b[1;35moutput_guard_rail.py:204\u001b[37m)\u001b[0m \u001b[32mINFO\u001b[0m | ✅ Recommendations processed and validated\n",
      "\u001b[37m[\u001b[90m2025-09-19 12:35:38\u001b[37m]\u001b[0m \u001b[37m(\u001b[1;35moutput_guard_rail.py:205\u001b[37m)\u001b[0m \u001b[32mINFO\u001b[0m | 📤 Final message length: 4119 chars\n",
      "\u001b[37m[\u001b[90m2025-09-19 12:35:38\u001b[37m]\u001b[0m \u001b[37m(\u001b[1;94m_algo.py:287\u001b[37m)\u001b[0m \u001b[33mWARNING\u001b[0m | Task output_guard_rail with path ('__pregel_pull', 'output_guard_rail') wrote to unknown channel branch:to:end, ignoring it.\n",
      "------------------------------------------------------------\n",
      "✅ Synchronous graph execution successful!\n",
      "\n",
      "📊 Final State:\n",
      "------------------------------\n",
      "📝 messages: 2 messages\n",
      "   [0] HumanMessage: Meu carro não está ligando. Quando viro a chave, só faz um clique. O que pode se...\n",
      "   [1] AIMessage: Olá! Entendo sua preocupação. O som de um \"clique\" ao tentar ligar o carro é um ...\n",
      "🔹 processing_status: completed_successfully\n",
      "🔹 analysis_result: {'input': 'Meu carro não está ligando. Quando viro a chave, só faz um clique. O que pode ser?', 'analysis': '**🔍 ANÁLISE DO PROBLEMA:**\\nO sintoma de ouvir apenas um \"clique\" ao girar a chave é muito específico e geralmente indica que o sistema elétrico está tentando engatar o motor de arranque, mas não há energia suficiente ou o motor de arranque não consegue girar o motor. O clique que você ouve é provavelmente o solenoide do motor de arranque sendo ativado, mas a corrente necessária para girar o motor de arranque (e, consequentemente, o motor do carro) não está chegando ou não é suficiente.\\n\\n**🎯 CAUSAS MAIS PROVÁVEIS:**\\n\\n1.  **Bateria Fraca ou Descarregada:** Esta é a causa mais comum. Uma bateria com pouca carga pode ter energia suficiente para ativar o solenoide do motor de arranque (o \"clique\"), mas não o suficiente para fornecer a alta corrente necessária para girar o motor de arranque e ligar o motor do carro.\\n    *   **Explicação:** O solenoide requer uma corrente relativamente baixa para engatar, enquanto o motor de arranque exige centenas de amperes para girar o motor. Se a bateria estiver fraca, ela não consegue fornecer essa alta corrente.\\n2.  **Terminais da Bateria Sujos ou Soltos:** Conexões corroídas ou frouxas nos terminais da bateria (positivo ou negativo) podem impedir o fluxo adequado de corrente.\\n    *   **Explicação:** A corrosão ou uma conexão frouxa cria resistência elétrica, limitando a quantidade de corrente que pode fluir da bateria para o motor de arranque, resultando no mesmo sintoma de uma bateria fraca. O cabo terra (negativo) também é crucial.\\n3.  **Motor de Arranque Defeituoso (Solenoide ou Motor):** O próprio motor de arranque pode estar com problemas. O solenoide pode estar clicando, mas não está fazendo o contato elétrico interno para enviar energia ao motor de arranque, ou o motor de arranque em si pode estar com defeito (escovas gastas, bobinas queimadas, engrenagem travada).\\n    *   **Explicação:** Se o solenoide clica, mas não há rotação do motor de arranque, pode ser que os contatos internos do solenoide estejam gastos ou que o motor elétrico do arranque esteja com falha mecânica ou elétrica.\\n4.  **Cabo Terra do Motor ou da Bateria com Problemas:** Um cabo terra (negativo) solto, corroído ou danificado entre a bateria e o chassi/motor pode impedir o circuito elétrico de ser completado.\\n    *   **Explicação:** Assim como os terminais da bateria, um cabo terra comprometido impede o retorno da corrente para a bateria, interrompendo o circuito de partida.\\n\\n**🔧 VERIFICAÇÕES SIMPLES:**\\n\\n*   **Luzes e Acessórios:** Ligue os faróis, a luz interna ou o rádio. Se estiverem fracos ou não ligarem, é um forte indicativo de bateria fraca. Se estiverem normais, a bateria pode ter carga suficiente para acessórios, mas não para o arranque.\\n*   **Terminais da Bateria:** Abra o capô e verifique visualmente os terminais da bateria. Eles estão limpos e apertados? Não há corrosão (pó branco/azul esverdeado) ao redor deles? Tente balançar os cabos para ver se estão firmes.\\n*   **Tentar uma Partida com Cabos (Chupeta):** Se você tiver cabos de bateria e outro veículo, tente fazer uma \"chupeta\". Se o carro ligar imediatamente, a bateria é a causa mais provável. Se não ligar, o problema pode ser no motor de arranque ou nos cabos.\\n*   **Verificar o Cabo Terra:** Siga o cabo negativo da bateria até onde ele se conecta ao chassi ou ao motor. Verifique se a conexão está limpa e apertada.\\n\\n**⚠️ NÍVEL DE URGÊNCIA:**\\n**Alto** - Seu carro não está ligando, o que impede seu uso. Embora não seja uma falha que cause danos imediatos ao veículo parado, a incapacidade de ligar o motor é uma urgência para a mobilidade.\\n\\n**💡 RECOMENDAÇÕES:**\\n\\n*   **Comece pelas verificações simples:** Verifique os terminais da bateria e tente uma partida com cabos. Esta é a forma mais rápida e comum de resolver o problema ou de diagnosticar a bateria.\\n*   **Se a partida com cabos funcionar:** Dirija o carro por pelo menos 30 minutos para permitir que o alternador recarregue a bateria. Se o problema persistir na próxima partida, a bateria provavelmente precisa ser substituída ou o alternador precisa ser verificado.\\n*   **Se a partida com cabos não funcionar:** O problema é mais complexo e provavelmente envolve o motor de arranque ou os cabos principais.\\n*   **Quando procurar um profissional:** Se as verificações simples não resolverem o problema ou se você não se sentir confortável em realizá-las, é fundamental procurar um mecânico de confiança. Ele poderá testar a bateria, o alternador e o motor de arranque com equipamentos específicos para um diagnóstico preciso e seguro.', 'node': 'AgenticNode'}\n",
      "🔹 recommendations: ['**🔍 ANÁLISE DO PROBLEMA:**\\nO sintoma de ouvir apenas um \"clique\" ao girar a chave é muito específico e geralmente indica que o sistema elétrico está tentando engatar o motor de arranque, mas não há energia suficiente ou o motor de arranque não consegue girar o motor. O clique que você ouve é provavelmente o solenoide do motor de arranque sendo ativado, mas a corrente necessária para girar o motor de arranque (e, consequentemente, o motor do carro) não está chegando ou não é suficiente.\\n\\n**🎯 CAUSAS MAIS PROVÁVEIS:**\\n\\n1.  **Bateria Fraca ou Descarregada:** Esta é a causa mais comum. Uma bateria com pouca carga pode ter energia suficiente para ativar o solenoide do motor de arranque (o \"clique\"), mas não o suficiente para fornecer a alta corrente necessária para girar o motor de arranque e ligar o motor do carro.\\n    *   **Explicação:** O solenoide requer uma corrente relativamente baixa para engatar, enquanto o motor de arranque exige centenas de amperes para girar o motor. Se a bateria estiver fraca, ela não consegue fornecer essa alta corrente.\\n2.  **Terminais da Bateria Sujos ou Soltos:** Conexões corroídas ou frouxas nos terminais da bateria (positivo ou negativo) podem impedir o fluxo adequado de corrente.\\n    *   **Explicação:** A corrosão ou uma conexão frouxa cria resistência elétrica, limitando a quantidade de corrente que pode fluir da bateria para o motor de arranque, resultando no mesmo sintoma de uma bateria fraca. O cabo terra (negativo) também é crucial.\\n3.  **Motor de Arranque Defeituoso (Solenoide ou Motor):** O próprio motor de arranque pode estar com problemas. O solenoide pode estar clicando, mas não está fazendo o contato elétrico interno para enviar energia ao motor de arranque, ou o motor de arranque em si pode estar com defeito (escovas gastas, bobinas queimadas, engrenagem travada).\\n    *   **Explicação:** Se o solenoide clica, mas não há rotação do motor de arranque, pode ser que os contatos internos do solenoide estejam gastos ou que o motor elétrico do arranque esteja com falha mecânica ou elétrica.\\n4.  **Cabo Terra do Motor ou da Bateria com Problemas:** Um cabo terra (negativo) solto, corroído ou danificado entre a bateria e o chassi/motor pode impedir o circuito elétrico de ser completado.\\n    *   **Explicação:** Assim como os terminais da bateria, um cabo terra comprometido impede o retorno da corrente para a bateria, interrompendo o circuito de partida.\\n\\n**🔧 VERIFICAÇÕES SIMPLES:**\\n\\n*   **Luzes e Acessórios:** Ligue os faróis, a luz interna ou o rádio. Se estiverem fracos ou não ligarem, é um forte indicativo de bateria fraca. Se estiverem normais, a bateria pode ter carga suficiente para acessórios, mas não para o arranque.\\n*   **Terminais da Bateria:** Abra o capô e verifique visualmente os terminais da bateria. Eles estão limpos e apertados? Não há corrosão (pó branco/azul esverdeado) ao redor deles? Tente balançar os cabos para ver se estão firmes.\\n*   **Tentar uma Partida com Cabos (Chupeta):** Se você tiver cabos de bateria e outro veículo, tente fazer uma \"chupeta\". Se o carro ligar imediatamente, a bateria é a causa mais provável. Se não ligar, o problema pode ser no motor de arranque ou nos cabos.\\n*   **Verificar o Cabo Terra:** Siga o cabo negativo da bateria até onde ele se conecta ao chassi ou ao motor. Verifique se a conexão está limpa e apertada.\\n\\n**⚠️ NÍVEL DE URGÊNCIA:**\\n**Alto** - Seu carro não está ligando, o que impede seu uso. Embora não seja uma falha que cause danos imediatos ao veículo parado, a incapacidade de ligar o motor é uma urgência para a mobilidade.\\n\\n**💡 RECOMENDAÇÕES:**\\n\\n*   **Comece pelas verificações simples:** Verifique os terminais da bateria e tente uma partida com cabos. Esta é a forma mais rápida e comum de resolver o problema ou de diagnosticar a bateria.\\n*   **Se a partida com cabos funcionar:** Dirija o carro por pelo menos 30 minutos para permitir que o alternador recarregue a bateria. Se o problema persistir na próxima partida, a bateria provavelmente precisa ser substituída ou o alternador precisa ser verificado.\\n*   **Se a partida com cabos não funcionar:** O problema é mais complexo e provavelmente envolve o motor de arranque ou os cabos principais.\\n*   **Quando procurar um profissional:** Se as verificações simples não resolverem o problema ou se você não se sentir confortável em realizá-las, é fundamental procurar um mecânico de confiança. Ele poderá testar a bateria, o alternador e o motor de arranque com equipamentos específicos para um diagnóstico preciso e seguro.']\n",
      "\n",
      "🎉 Sync test completed! Final state has 4 populated fields.\n",
      "\n",
      "============================================================\n"
     ]
    }
   ],
   "source": [
    "# Alternative: Synchronous test (if async has issues)\n",
    "def test_graph_sync():\n",
    "    \"\"\"Synchronous version of the graph test.\"\"\"\n",
    "    \n",
    "    # Create a test state using CarSystemState\n",
    "    test_input = CarSystemState(\n",
    "        messages=[HumanMessage(content=\"Meu carro não está ligando. Quando viro a chave, só faz um clique. O que pode ser?\")],\n",
    "        user_input=None,\n",
    "        car_data=None,\n",
    "        current_node=None,\n",
    "        processing_status=None,\n",
    "        analysis_result=None,\n",
    "        recommendations=None,\n",
    "        error_message=None,\n",
    "        context=None,\n",
    "    )\n",
    "\n",
    "    config = RunnableConfig(config={\"run_name\": \"car-system-agentic-ai\"})\n",
    "\n",
    "    \n",
    "    print(\"🔧 Testing graph execution (synchronous)...\")\n",
    "    print(f\"Input message: {test_input['messages'][0].content}\")\n",
    "    print(\"-\" * 60)\n",
    "    \n",
    "    try:\n",
    "        # Run the graph synchronously\n",
    "        result = app.invoke(input=test_input, config=config)\n",
    "        print(\"-\" * 60)\n",
    "        print(\"✅ Synchronous graph execution successful!\")\n",
    "        print(\"\\n📊 Final State:\")\n",
    "        print(\"-\" * 30)\n",
    "        \n",
    "        # Display the results\n",
    "        for key, value in result.items():\n",
    "            if value is not None:\n",
    "                if key == \"messages\":\n",
    "                    print(f\"📝 {key}: {len(value)} messages\")\n",
    "                    for i, msg in enumerate(value):\n",
    "                        print(f\"   [{i}] {type(msg).__name__}: {msg.content[:80]}...\")\n",
    "                elif isinstance(value, str) and len(value) > 80:\n",
    "                    print(f\"📄 {key}: {value[:80]}...\")\n",
    "                else:\n",
    "                    print(f\"🔹 {key}: {value}\")\n",
    "        \n",
    "        return result\n",
    "        \n",
    "    except Exception as e:\n",
    "        print(f\"❌ Error during synchronous execution: {e}\")\n",
    "        print(f\"Error type: {type(e).__name__}\")\n",
    "        import traceback\n",
    "        print(f\"Traceback: {traceback.format_exc()}\")\n",
    "        return None\n",
    "\n",
    "print(\"\\n\" + \"=\"*60)\n",
    "print(\"🔄 Running synchronous version...\")\n",
    "sync_result = test_graph_sync()\n",
    "\n",
    "if sync_result:\n",
    "    print(f\"\\n🎉 Sync test completed! Final state has {len([k for k, v in sync_result.items() if v is not None])} populated fields.\")\n",
    "else:\n",
    "    print(\"\\n❌ Sync test also failed. Check configuration.\")\n",
    "print(\"\\n\" + \"=\"*60)"
   ]
  }
 ],
 "metadata": {
  "kernelspec": {
   "display_name": ".venv",
   "language": "python",
   "name": "python3"
  },
  "language_info": {
   "codemirror_mode": {
    "name": "ipython",
    "version": 3
   },
   "file_extension": ".py",
   "mimetype": "text/x-python",
   "name": "python",
   "nbconvert_exporter": "python",
   "pygments_lexer": "ipython3",
   "version": "3.12.3"
  }
 },
 "nbformat": 4,
 "nbformat_minor": 5
}
